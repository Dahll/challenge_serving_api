{
 "cells": [
  {
   "cell_type": "markdown",
   "metadata": {},
   "source": [
    "# Fine Tunning d'un modèle de Sentiment analysis\n",
    "L'objectif de ce notebook est de sur-entrainé un modèle de NLP (Bert) afin de le spécialisé dans l'analyse de sentiment transmis par une phrase.\n",
    "Pour ce faire, nous disposons d'un dataset etiquetté sous `data/amazon_cells_albelled.txt`"
   ]
  },
  {
   "cell_type": "code",
   "execution_count": 2,
   "metadata": {},
   "outputs": [
    {
     "name": "stdout",
     "output_type": "stream",
     "text": [
      "Ignoring ipython: markers 'python_version < \"3.8\"' don't match your environment\n",
      "Requirement already satisfied: black~=22.0 in /home/adrien/Documents/pro/challenge_serving_api/venv/lib/python3.10/site-packages (from -r ../src/requirements.txt (line 1)) (22.12.0)\n",
      "Requirement already satisfied: flake8<4.0,>=3.7.9 in /home/adrien/Documents/pro/challenge_serving_api/venv/lib/python3.10/site-packages (from -r ../src/requirements.txt (line 2)) (3.9.2)\n",
      "Requirement already satisfied: ipython~=8.10 in /home/adrien/Documents/pro/challenge_serving_api/venv/lib/python3.10/site-packages (from -r ../src/requirements.txt (line 4)) (8.12.0)\n",
      "Requirement already satisfied: isort~=5.0 in /home/adrien/Documents/pro/challenge_serving_api/venv/lib/python3.10/site-packages (from -r ../src/requirements.txt (line 5)) (5.12.0)\n",
      "Requirement already satisfied: jupyter~=1.0 in /home/adrien/Documents/pro/challenge_serving_api/venv/lib/python3.10/site-packages (from -r ../src/requirements.txt (line 6)) (1.0.0)\n",
      "Requirement already satisfied: jupyterlab~=3.0 in /home/adrien/Documents/pro/challenge_serving_api/venv/lib/python3.10/site-packages (from -r ../src/requirements.txt (line 7)) (3.5.3)\n",
      "Requirement already satisfied: kedro~=0.18.13 in /home/adrien/Documents/pro/challenge_serving_api/venv/lib/python3.10/site-packages (from -r ../src/requirements.txt (line 8)) (0.18.13)\n",
      "Requirement already satisfied: kedro-viz~=6.0 in /home/adrien/Documents/pro/challenge_serving_api/venv/lib/python3.10/site-packages (from -r ../src/requirements.txt (line 9)) (6.5.0)\n",
      "Requirement already satisfied: kedro-datasets[pandas.CSVDataSet]~=1.0 in /home/adrien/Documents/pro/challenge_serving_api/venv/lib/python3.10/site-packages (from -r ../src/requirements.txt (line 10)) (1.7.0)\n",
      "Requirement already satisfied: kedro-telemetry~=0.2.0 in /home/adrien/Documents/pro/challenge_serving_api/venv/lib/python3.10/site-packages (from -r ../src/requirements.txt (line 11)) (0.2.5)\n",
      "Requirement already satisfied: nbstripout~=0.4 in /home/adrien/Documents/pro/challenge_serving_api/venv/lib/python3.10/site-packages (from -r ../src/requirements.txt (line 12)) (0.6.1)\n",
      "Requirement already satisfied: pytest-cov~=3.0 in /home/adrien/Documents/pro/challenge_serving_api/venv/lib/python3.10/site-packages (from -r ../src/requirements.txt (line 13)) (3.0.0)\n",
      "Requirement already satisfied: pytest-mock<2.0,>=1.7.1 in /home/adrien/Documents/pro/challenge_serving_api/venv/lib/python3.10/site-packages (from -r ../src/requirements.txt (line 14)) (1.13.0)\n",
      "Requirement already satisfied: pytest~=7.2 in /home/adrien/Documents/pro/challenge_serving_api/venv/lib/python3.10/site-packages (from -r ../src/requirements.txt (line 15)) (7.4.2)\n",
      "Requirement already satisfied: absl-py==1.4.0 in /home/adrien/Documents/pro/challenge_serving_api/venv/lib/python3.10/site-packages (from -r ../src/requirements.txt (line 17)) (1.4.0)\n",
      "Requirement already satisfied: asttokens==2.2.1 in /home/adrien/Documents/pro/challenge_serving_api/venv/lib/python3.10/site-packages (from -r ../src/requirements.txt (line 18)) (2.2.1)\n",
      "Requirement already satisfied: astunparse==1.6.3 in /home/adrien/Documents/pro/challenge_serving_api/venv/lib/python3.10/site-packages (from -r ../src/requirements.txt (line 19)) (1.6.3)\n",
      "Requirement already satisfied: backcall==0.2.0 in /home/adrien/Documents/pro/challenge_serving_api/venv/lib/python3.10/site-packages (from -r ../src/requirements.txt (line 20)) (0.2.0)\n",
      "Requirement already satisfied: cachetools==5.3.0 in /home/adrien/Documents/pro/challenge_serving_api/venv/lib/python3.10/site-packages (from -r ../src/requirements.txt (line 21)) (5.3.0)\n",
      "Requirement already satisfied: certifi==2022.12.7 in /home/adrien/Documents/pro/challenge_serving_api/venv/lib/python3.10/site-packages (from -r ../src/requirements.txt (line 22)) (2022.12.7)\n",
      "Requirement already satisfied: charset-normalizer==3.1.0 in /home/adrien/Documents/pro/challenge_serving_api/venv/lib/python3.10/site-packages (from -r ../src/requirements.txt (line 23)) (3.1.0)\n",
      "Requirement already satisfied: comm==0.1.3 in /home/adrien/Documents/pro/challenge_serving_api/venv/lib/python3.10/site-packages (from -r ../src/requirements.txt (line 24)) (0.1.3)\n",
      "Requirement already satisfied: debugpy==1.6.7 in /home/adrien/Documents/pro/challenge_serving_api/venv/lib/python3.10/site-packages (from -r ../src/requirements.txt (line 25)) (1.6.7)\n",
      "Requirement already satisfied: decorator==5.1.1 in /home/adrien/Documents/pro/challenge_serving_api/venv/lib/python3.10/site-packages (from -r ../src/requirements.txt (line 26)) (5.1.1)\n",
      "Requirement already satisfied: executing==1.2.0 in /home/adrien/Documents/pro/challenge_serving_api/venv/lib/python3.10/site-packages (from -r ../src/requirements.txt (line 27)) (1.2.0)\n",
      "Requirement already satisfied: filelock==3.10.7 in /home/adrien/Documents/pro/challenge_serving_api/venv/lib/python3.10/site-packages (from -r ../src/requirements.txt (line 28)) (3.10.7)\n",
      "Requirement already satisfied: flatbuffers==23.3.3 in /home/adrien/Documents/pro/challenge_serving_api/venv/lib/python3.10/site-packages (from -r ../src/requirements.txt (line 29)) (23.3.3)\n",
      "Requirement already satisfied: gast==0.4.0 in /home/adrien/Documents/pro/challenge_serving_api/venv/lib/python3.10/site-packages (from -r ../src/requirements.txt (line 30)) (0.4.0)\n",
      "Requirement already satisfied: google-auth==2.17.2 in /home/adrien/Documents/pro/challenge_serving_api/venv/lib/python3.10/site-packages (from -r ../src/requirements.txt (line 31)) (2.17.2)\n",
      "Requirement already satisfied: google-auth-oauthlib==1.0.0 in /home/adrien/Documents/pro/challenge_serving_api/venv/lib/python3.10/site-packages (from -r ../src/requirements.txt (line 32)) (1.0.0)\n",
      "Requirement already satisfied: google-pasta==0.2.0 in /home/adrien/Documents/pro/challenge_serving_api/venv/lib/python3.10/site-packages (from -r ../src/requirements.txt (line 33)) (0.2.0)\n",
      "Requirement already satisfied: grpcio==1.53.0 in /home/adrien/Documents/pro/challenge_serving_api/venv/lib/python3.10/site-packages (from -r ../src/requirements.txt (line 34)) (1.53.0)\n",
      "Requirement already satisfied: h5py==3.8.0 in /home/adrien/Documents/pro/challenge_serving_api/venv/lib/python3.10/site-packages (from -r ../src/requirements.txt (line 35)) (3.8.0)\n",
      "Requirement already satisfied: huggingface-hub==0.13.3 in /home/adrien/Documents/pro/challenge_serving_api/venv/lib/python3.10/site-packages (from -r ../src/requirements.txt (line 36)) (0.13.3)\n",
      "Requirement already satisfied: idna==3.4 in /home/adrien/Documents/pro/challenge_serving_api/venv/lib/python3.10/site-packages (from -r ../src/requirements.txt (line 37)) (3.4)\n",
      "Requirement already satisfied: ipykernel==6.22.0 in /home/adrien/Documents/pro/challenge_serving_api/venv/lib/python3.10/site-packages (from -r ../src/requirements.txt (line 38)) (6.22.0)\n",
      "Requirement already satisfied: jax==0.4.8 in /home/adrien/Documents/pro/challenge_serving_api/venv/lib/python3.10/site-packages (from -r ../src/requirements.txt (line 40)) (0.4.8)\n",
      "Requirement already satisfied: jedi==0.18.2 in /home/adrien/Documents/pro/challenge_serving_api/venv/lib/python3.10/site-packages (from -r ../src/requirements.txt (line 41)) (0.18.2)\n",
      "Requirement already satisfied: joblib==1.2.0 in /home/adrien/Documents/pro/challenge_serving_api/venv/lib/python3.10/site-packages (from -r ../src/requirements.txt (line 42)) (1.2.0)\n",
      "Requirement already satisfied: jupyter_client==8.1.0 in /home/adrien/Documents/pro/challenge_serving_api/venv/lib/python3.10/site-packages (from -r ../src/requirements.txt (line 43)) (8.1.0)\n",
      "Requirement already satisfied: jupyter_core==5.3.0 in /home/adrien/Documents/pro/challenge_serving_api/venv/lib/python3.10/site-packages (from -r ../src/requirements.txt (line 44)) (5.3.0)\n",
      "Requirement already satisfied: keras==2.12.0 in /home/adrien/Documents/pro/challenge_serving_api/venv/lib/python3.10/site-packages (from -r ../src/requirements.txt (line 45)) (2.12.0)\n",
      "Requirement already satisfied: libclang==16.0.0 in /home/adrien/Documents/pro/challenge_serving_api/venv/lib/python3.10/site-packages (from -r ../src/requirements.txt (line 46)) (16.0.0)\n",
      "Requirement already satisfied: Markdown==3.4.3 in /home/adrien/Documents/pro/challenge_serving_api/venv/lib/python3.10/site-packages (from -r ../src/requirements.txt (line 47)) (3.4.3)\n",
      "Requirement already satisfied: MarkupSafe==2.1.2 in /home/adrien/Documents/pro/challenge_serving_api/venv/lib/python3.10/site-packages (from -r ../src/requirements.txt (line 48)) (2.1.2)\n",
      "Requirement already satisfied: matplotlib-inline==0.1.6 in /home/adrien/Documents/pro/challenge_serving_api/venv/lib/python3.10/site-packages (from -r ../src/requirements.txt (line 49)) (0.1.6)\n",
      "Requirement already satisfied: ml-dtypes==0.0.4 in /home/adrien/Documents/pro/challenge_serving_api/venv/lib/python3.10/site-packages (from -r ../src/requirements.txt (line 50)) (0.0.4)\n",
      "Requirement already satisfied: nest-asyncio==1.5.6 in /home/adrien/Documents/pro/challenge_serving_api/venv/lib/python3.10/site-packages (from -r ../src/requirements.txt (line 51)) (1.5.6)\n",
      "Requirement already satisfied: numpy==1.23.5 in /home/adrien/Documents/pro/challenge_serving_api/venv/lib/python3.10/site-packages (from -r ../src/requirements.txt (line 52)) (1.23.5)\n",
      "Requirement already satisfied: oauthlib==3.2.2 in /home/adrien/Documents/pro/challenge_serving_api/venv/lib/python3.10/site-packages (from -r ../src/requirements.txt (line 53)) (3.2.2)\n",
      "Requirement already satisfied: opt-einsum==3.3.0 in /home/adrien/Documents/pro/challenge_serving_api/venv/lib/python3.10/site-packages (from -r ../src/requirements.txt (line 54)) (3.3.0)\n",
      "Requirement already satisfied: packaging==23.0 in /home/adrien/Documents/pro/challenge_serving_api/venv/lib/python3.10/site-packages (from -r ../src/requirements.txt (line 55)) (23.0)\n",
      "Requirement already satisfied: pandas==2.0.0 in /home/adrien/Documents/pro/challenge_serving_api/venv/lib/python3.10/site-packages (from -r ../src/requirements.txt (line 56)) (2.0.0)\n",
      "Requirement already satisfied: parso==0.8.3 in /home/adrien/Documents/pro/challenge_serving_api/venv/lib/python3.10/site-packages (from -r ../src/requirements.txt (line 57)) (0.8.3)\n",
      "Requirement already satisfied: pexpect==4.8.0 in /home/adrien/Documents/pro/challenge_serving_api/venv/lib/python3.10/site-packages (from -r ../src/requirements.txt (line 58)) (4.8.0)\n",
      "Requirement already satisfied: pickleshare==0.7.5 in /home/adrien/Documents/pro/challenge_serving_api/venv/lib/python3.10/site-packages (from -r ../src/requirements.txt (line 59)) (0.7.5)\n",
      "Requirement already satisfied: platformdirs==3.2.0 in /home/adrien/Documents/pro/challenge_serving_api/venv/lib/python3.10/site-packages (from -r ../src/requirements.txt (line 60)) (3.2.0)\n",
      "Requirement already satisfied: prompt-toolkit==3.0.38 in /home/adrien/Documents/pro/challenge_serving_api/venv/lib/python3.10/site-packages (from -r ../src/requirements.txt (line 61)) (3.0.38)\n",
      "Requirement already satisfied: protobuf==4.22.1 in /home/adrien/Documents/pro/challenge_serving_api/venv/lib/python3.10/site-packages (from -r ../src/requirements.txt (line 62)) (4.22.1)\n",
      "Requirement already satisfied: psutil==5.9.4 in /home/adrien/Documents/pro/challenge_serving_api/venv/lib/python3.10/site-packages (from -r ../src/requirements.txt (line 63)) (5.9.4)\n",
      "Requirement already satisfied: ptyprocess==0.7.0 in /home/adrien/Documents/pro/challenge_serving_api/venv/lib/python3.10/site-packages (from -r ../src/requirements.txt (line 64)) (0.7.0)\n"
     ]
    },
    {
     "name": "stdout",
     "output_type": "stream",
     "text": [
      "Requirement already satisfied: pure-eval==0.2.2 in /home/adrien/Documents/pro/challenge_serving_api/venv/lib/python3.10/site-packages (from -r ../src/requirements.txt (line 65)) (0.2.2)\n",
      "Requirement already satisfied: pyasn1==0.4.8 in /home/adrien/Documents/pro/challenge_serving_api/venv/lib/python3.10/site-packages (from -r ../src/requirements.txt (line 66)) (0.4.8)\n",
      "Requirement already satisfied: pyasn1-modules==0.2.8 in /home/adrien/Documents/pro/challenge_serving_api/venv/lib/python3.10/site-packages (from -r ../src/requirements.txt (line 67)) (0.2.8)\n",
      "Requirement already satisfied: Pygments==2.14.0 in /home/adrien/Documents/pro/challenge_serving_api/venv/lib/python3.10/site-packages (from -r ../src/requirements.txt (line 68)) (2.14.0)\n",
      "Requirement already satisfied: python-dateutil==2.8.2 in /home/adrien/Documents/pro/challenge_serving_api/venv/lib/python3.10/site-packages (from -r ../src/requirements.txt (line 69)) (2.8.2)\n",
      "Requirement already satisfied: pytz==2023.3 in /home/adrien/Documents/pro/challenge_serving_api/venv/lib/python3.10/site-packages (from -r ../src/requirements.txt (line 70)) (2023.3)\n",
      "Requirement already satisfied: PyYAML==6.0 in /home/adrien/Documents/pro/challenge_serving_api/venv/lib/python3.10/site-packages (from -r ../src/requirements.txt (line 71)) (6.0)\n",
      "Requirement already satisfied: pyzmq==25.0.2 in /home/adrien/Documents/pro/challenge_serving_api/venv/lib/python3.10/site-packages (from -r ../src/requirements.txt (line 72)) (25.0.2)\n",
      "Requirement already satisfied: regex==2023.3.23 in /home/adrien/Documents/pro/challenge_serving_api/venv/lib/python3.10/site-packages (from -r ../src/requirements.txt (line 73)) (2023.3.23)\n",
      "Requirement already satisfied: requests==2.28.2 in /home/adrien/Documents/pro/challenge_serving_api/venv/lib/python3.10/site-packages (from -r ../src/requirements.txt (line 74)) (2.28.2)\n",
      "Requirement already satisfied: requests-oauthlib==1.3.1 in /home/adrien/Documents/pro/challenge_serving_api/venv/lib/python3.10/site-packages (from -r ../src/requirements.txt (line 75)) (1.3.1)\n",
      "Requirement already satisfied: rsa==4.9 in /home/adrien/Documents/pro/challenge_serving_api/venv/lib/python3.10/site-packages (from -r ../src/requirements.txt (line 76)) (4.9)\n",
      "Requirement already satisfied: scikit-learn==1.2.2 in /home/adrien/Documents/pro/challenge_serving_api/venv/lib/python3.10/site-packages (from -r ../src/requirements.txt (line 77)) (1.2.2)\n",
      "Requirement already satisfied: scipy==1.10.1 in /home/adrien/Documents/pro/challenge_serving_api/venv/lib/python3.10/site-packages (from -r ../src/requirements.txt (line 78)) (1.10.1)\n",
      "Requirement already satisfied: six==1.16.0 in /home/adrien/Documents/pro/challenge_serving_api/venv/lib/python3.10/site-packages (from -r ../src/requirements.txt (line 79)) (1.16.0)\n",
      "Requirement already satisfied: stack-data==0.6.2 in /home/adrien/Documents/pro/challenge_serving_api/venv/lib/python3.10/site-packages (from -r ../src/requirements.txt (line 80)) (0.6.2)\n",
      "Requirement already satisfied: tensorboard==2.12.1 in /home/adrien/Documents/pro/challenge_serving_api/venv/lib/python3.10/site-packages (from -r ../src/requirements.txt (line 81)) (2.12.1)\n",
      "Requirement already satisfied: tensorboard-data-server==0.7.0 in /home/adrien/Documents/pro/challenge_serving_api/venv/lib/python3.10/site-packages (from -r ../src/requirements.txt (line 82)) (0.7.0)\n",
      "Requirement already satisfied: tensorboard-plugin-wit==1.8.1 in /home/adrien/Documents/pro/challenge_serving_api/venv/lib/python3.10/site-packages (from -r ../src/requirements.txt (line 83)) (1.8.1)\n",
      "Requirement already satisfied: tensorflow==2.12.0 in /home/adrien/Documents/pro/challenge_serving_api/venv/lib/python3.10/site-packages (from -r ../src/requirements.txt (line 84)) (2.12.0)\n",
      "Requirement already satisfied: tensorflow-estimator==2.12.0 in /home/adrien/Documents/pro/challenge_serving_api/venv/lib/python3.10/site-packages (from -r ../src/requirements.txt (line 85)) (2.12.0)\n",
      "Requirement already satisfied: tensorflow-io-gcs-filesystem==0.32.0 in /home/adrien/Documents/pro/challenge_serving_api/venv/lib/python3.10/site-packages (from -r ../src/requirements.txt (line 86)) (0.32.0)\n",
      "Requirement already satisfied: termcolor==2.2.0 in /home/adrien/Documents/pro/challenge_serving_api/venv/lib/python3.10/site-packages (from -r ../src/requirements.txt (line 87)) (2.2.0)\n",
      "Requirement already satisfied: threadpoolctl==3.1.0 in /home/adrien/Documents/pro/challenge_serving_api/venv/lib/python3.10/site-packages (from -r ../src/requirements.txt (line 88)) (3.1.0)\n",
      "Requirement already satisfied: tokenizers==0.13.3 in /home/adrien/Documents/pro/challenge_serving_api/venv/lib/python3.10/site-packages (from -r ../src/requirements.txt (line 89)) (0.13.3)\n",
      "Requirement already satisfied: tornado==6.2 in /home/adrien/Documents/pro/challenge_serving_api/venv/lib/python3.10/site-packages (from -r ../src/requirements.txt (line 90)) (6.2)\n",
      "Requirement already satisfied: tqdm==4.65.0 in /home/adrien/Documents/pro/challenge_serving_api/venv/lib/python3.10/site-packages (from -r ../src/requirements.txt (line 91)) (4.65.0)\n",
      "Requirement already satisfied: traitlets==5.9.0 in /home/adrien/Documents/pro/challenge_serving_api/venv/lib/python3.10/site-packages (from -r ../src/requirements.txt (line 92)) (5.9.0)\n",
      "Requirement already satisfied: transformers==4.27.4 in /home/adrien/Documents/pro/challenge_serving_api/venv/lib/python3.10/site-packages (from -r ../src/requirements.txt (line 93)) (4.27.4)\n",
      "Requirement already satisfied: typing_extensions==4.5.0 in /home/adrien/Documents/pro/challenge_serving_api/venv/lib/python3.10/site-packages (from -r ../src/requirements.txt (line 94)) (4.5.0)\n",
      "Requirement already satisfied: tzdata==2023.3 in /home/adrien/Documents/pro/challenge_serving_api/venv/lib/python3.10/site-packages (from -r ../src/requirements.txt (line 95)) (2023.3)\n",
      "Requirement already satisfied: urllib3==1.26.15 in /home/adrien/Documents/pro/challenge_serving_api/venv/lib/python3.10/site-packages (from -r ../src/requirements.txt (line 96)) (1.26.15)\n",
      "Requirement already satisfied: wcwidth==0.2.6 in /home/adrien/Documents/pro/challenge_serving_api/venv/lib/python3.10/site-packages (from -r ../src/requirements.txt (line 97)) (0.2.6)\n",
      "Requirement already satisfied: Werkzeug==2.2.3 in /home/adrien/Documents/pro/challenge_serving_api/venv/lib/python3.10/site-packages (from -r ../src/requirements.txt (line 98)) (2.2.3)\n",
      "Requirement already satisfied: wrapt==1.14.1 in /home/adrien/Documents/pro/challenge_serving_api/venv/lib/python3.10/site-packages (from -r ../src/requirements.txt (line 99)) (1.14.1)\n",
      "Requirement already satisfied: wheel<1.0,>=0.23.0 in /home/adrien/Documents/pro/challenge_serving_api/venv/lib/python3.10/site-packages (from astunparse==1.6.3->-r ../src/requirements.txt (line 19)) (0.41.2)\n",
      "Requirement already satisfied: setuptools>=41.0.0 in /home/adrien/Documents/pro/challenge_serving_api/venv/lib/python3.10/site-packages (from tensorboard==2.12.1->-r ../src/requirements.txt (line 81)) (68.2.2)\n",
      "Requirement already satisfied: mypy-extensions>=0.4.3 in /home/adrien/Documents/pro/challenge_serving_api/venv/lib/python3.10/site-packages (from black~=22.0->-r ../src/requirements.txt (line 1)) (1.0.0)\n",
      "Requirement already satisfied: click>=8.0.0 in /home/adrien/Documents/pro/challenge_serving_api/venv/lib/python3.10/site-packages (from black~=22.0->-r ../src/requirements.txt (line 1)) (8.1.7)\n",
      "Requirement already satisfied: pathspec>=0.9.0 in /home/adrien/Documents/pro/challenge_serving_api/venv/lib/python3.10/site-packages (from black~=22.0->-r ../src/requirements.txt (line 1)) (0.11.2)\n",
      "Requirement already satisfied: tomli>=1.1.0 in /home/adrien/Documents/pro/challenge_serving_api/venv/lib/python3.10/site-packages (from black~=22.0->-r ../src/requirements.txt (line 1)) (2.0.1)\n",
      "Requirement already satisfied: pyflakes<2.4.0,>=2.3.0 in /home/adrien/Documents/pro/challenge_serving_api/venv/lib/python3.10/site-packages (from flake8<4.0,>=3.7.9->-r ../src/requirements.txt (line 2)) (2.3.1)\n",
      "Requirement already satisfied: pycodestyle<2.8.0,>=2.7.0 in /home/adrien/Documents/pro/challenge_serving_api/venv/lib/python3.10/site-packages (from flake8<4.0,>=3.7.9->-r ../src/requirements.txt (line 2)) (2.7.0)\n",
      "Requirement already satisfied: mccabe<0.7.0,>=0.6.0 in /home/adrien/Documents/pro/challenge_serving_api/venv/lib/python3.10/site-packages (from flake8<4.0,>=3.7.9->-r ../src/requirements.txt (line 2)) (0.6.1)\n",
      "Requirement already satisfied: nbconvert in /home/adrien/Documents/pro/challenge_serving_api/venv/lib/python3.10/site-packages (from jupyter~=1.0->-r ../src/requirements.txt (line 6)) (7.8.0)\n",
      "Requirement already satisfied: jupyter-console in /home/adrien/Documents/pro/challenge_serving_api/venv/lib/python3.10/site-packages (from jupyter~=1.0->-r ../src/requirements.txt (line 6)) (6.6.3)\n",
      "Requirement already satisfied: ipywidgets in /home/adrien/Documents/pro/challenge_serving_api/venv/lib/python3.10/site-packages (from jupyter~=1.0->-r ../src/requirements.txt (line 6)) (8.1.1)\n",
      "Requirement already satisfied: notebook in /home/adrien/Documents/pro/challenge_serving_api/venv/lib/python3.10/site-packages (from jupyter~=1.0->-r ../src/requirements.txt (line 6)) (6.5.4)\n",
      "Requirement already satisfied: qtconsole in /home/adrien/Documents/pro/challenge_serving_api/venv/lib/python3.10/site-packages (from jupyter~=1.0->-r ../src/requirements.txt (line 6)) (5.4.4)\n"
     ]
    },
    {
     "name": "stdout",
     "output_type": "stream",
     "text": [
      "Requirement already satisfied: jinja2>=2.1 in /home/adrien/Documents/pro/challenge_serving_api/venv/lib/python3.10/site-packages (from jupyterlab~=3.0->-r ../src/requirements.txt (line 7)) (3.0.3)\n",
      "Requirement already satisfied: jupyterlab-server~=2.10 in /home/adrien/Documents/pro/challenge_serving_api/venv/lib/python3.10/site-packages (from jupyterlab~=3.0->-r ../src/requirements.txt (line 7)) (2.15.2)\n",
      "Requirement already satisfied: jupyter-server<3,>=1.16.0 in /home/adrien/Documents/pro/challenge_serving_api/venv/lib/python3.10/site-packages (from jupyterlab~=3.0->-r ../src/requirements.txt (line 7)) (1.24.0)\n",
      "Requirement already satisfied: nbclassic in /home/adrien/Documents/pro/challenge_serving_api/venv/lib/python3.10/site-packages (from jupyterlab~=3.0->-r ../src/requirements.txt (line 7)) (1.0.0)\n",
      "Requirement already satisfied: importlib-metadata>=3.6 in /home/adrien/Documents/pro/challenge_serving_api/venv/lib/python3.10/site-packages (from kedro~=0.18.13->-r ../src/requirements.txt (line 8)) (6.8.0)\n",
      "Requirement already satisfied: dynaconf<4.0,>=3.1.2 in /home/adrien/Documents/pro/challenge_serving_api/venv/lib/python3.10/site-packages (from kedro~=0.18.13->-r ../src/requirements.txt (line 8)) (3.2.3)\n",
      "Requirement already satisfied: anyconfig<0.14,>=0.10 in /home/adrien/Documents/pro/challenge_serving_api/venv/lib/python3.10/site-packages (from kedro~=0.18.13->-r ../src/requirements.txt (line 8)) (0.10.1)\n",
      "Requirement already satisfied: omegaconf~=2.3 in /home/adrien/Documents/pro/challenge_serving_api/venv/lib/python3.10/site-packages (from kedro~=0.18.13->-r ../src/requirements.txt (line 8)) (2.3.0)\n",
      "Requirement already satisfied: rich<14.0,>=12.0 in /home/adrien/Documents/pro/challenge_serving_api/venv/lib/python3.10/site-packages (from kedro~=0.18.13->-r ../src/requirements.txt (line 8)) (13.6.0)\n",
      "Requirement already satisfied: fsspec<2024.1,>=2021.4 in /home/adrien/Documents/pro/challenge_serving_api/venv/lib/python3.10/site-packages (from kedro~=0.18.13->-r ../src/requirements.txt (line 8)) (2023.9.2)\n",
      "Requirement already satisfied: toposort~=1.5 in /home/adrien/Documents/pro/challenge_serving_api/venv/lib/python3.10/site-packages (from kedro~=0.18.13->-r ../src/requirements.txt (line 8)) (1.10)\n",
      "Requirement already satisfied: pluggy<1.3,>=1.0 in /home/adrien/Documents/pro/challenge_serving_api/venv/lib/python3.10/site-packages (from kedro~=0.18.13->-r ../src/requirements.txt (line 8)) (1.2.0)\n",
      "Requirement already satisfied: jmespath<2.0,>=0.9.5 in /home/adrien/Documents/pro/challenge_serving_api/venv/lib/python3.10/site-packages (from kedro~=0.18.13->-r ../src/requirements.txt (line 8)) (1.0.1)\n",
      "Requirement already satisfied: attrs>=21.3 in /home/adrien/Documents/pro/challenge_serving_api/venv/lib/python3.10/site-packages (from kedro~=0.18.13->-r ../src/requirements.txt (line 8)) (23.1.0)\n",
      "Requirement already satisfied: toml~=0.10 in /home/adrien/Documents/pro/challenge_serving_api/venv/lib/python3.10/site-packages (from kedro~=0.18.13->-r ../src/requirements.txt (line 8)) (0.10.2)\n",
      "Requirement already satisfied: build in /home/adrien/Documents/pro/challenge_serving_api/venv/lib/python3.10/site-packages (from kedro~=0.18.13->-r ../src/requirements.txt (line 8)) (1.0.3)\n",
      "Requirement already satisfied: rope<2.0,>=0.21 in /home/adrien/Documents/pro/challenge_serving_api/venv/lib/python3.10/site-packages (from kedro~=0.18.13->-r ../src/requirements.txt (line 8)) (1.10.0)\n",
      "Requirement already satisfied: gitpython~=3.0 in /home/adrien/Documents/pro/challenge_serving_api/venv/lib/python3.10/site-packages (from kedro~=0.18.13->-r ../src/requirements.txt (line 8)) (3.1.37)\n",
      "Requirement already satisfied: cookiecutter<3.0,>=2.1.1 in /home/adrien/Documents/pro/challenge_serving_api/venv/lib/python3.10/site-packages (from kedro~=0.18.13->-r ../src/requirements.txt (line 8)) (2.4.0)\n",
      "Requirement already satisfied: importlib-resources>=1.3 in /home/adrien/Documents/pro/challenge_serving_api/venv/lib/python3.10/site-packages (from kedro~=0.18.13->-r ../src/requirements.txt (line 8)) (6.1.0)\n",
      "Requirement already satisfied: more-itertools<11,>=9 in /home/adrien/Documents/pro/challenge_serving_api/venv/lib/python3.10/site-packages (from kedro~=0.18.13->-r ../src/requirements.txt (line 8)) (10.1.0)\n",
      "Requirement already satisfied: pip-tools<8,>=6.5 in /home/adrien/Documents/pro/challenge_serving_api/venv/lib/python3.10/site-packages (from kedro~=0.18.13->-r ../src/requirements.txt (line 8)) (7.3.0)\n",
      "Requirement already satisfied: parse~=1.19.0 in /home/adrien/Documents/pro/challenge_serving_api/venv/lib/python3.10/site-packages (from kedro~=0.18.13->-r ../src/requirements.txt (line 8)) (1.19.1)\n",
      "Requirement already satisfied: strawberry-graphql<1.0,>=0.192.0 in /home/adrien/Documents/pro/challenge_serving_api/venv/lib/python3.10/site-packages (from kedro-viz~=6.0->-r ../src/requirements.txt (line 9)) (0.209.4)\n",
      "Requirement already satisfied: uvicorn[standard]~=0.22.0 in /home/adrien/Documents/pro/challenge_serving_api/venv/lib/python3.10/site-packages (from kedro-viz~=6.0->-r ../src/requirements.txt (line 9)) (0.22.0)\n",
      "Requirement already satisfied: sqlalchemy<3,>=1.4 in /home/adrien/Documents/pro/challenge_serving_api/venv/lib/python3.10/site-packages (from kedro-viz~=6.0->-r ../src/requirements.txt (line 9)) (2.0.21)\n",
      "Requirement already satisfied: semver>=2.10 in /home/adrien/Documents/pro/challenge_serving_api/venv/lib/python3.10/site-packages (from kedro-viz~=6.0->-r ../src/requirements.txt (line 9)) (2.13.0)\n",
      "Requirement already satisfied: orjson~=3.9 in /home/adrien/Documents/pro/challenge_serving_api/venv/lib/python3.10/site-packages (from kedro-viz~=6.0->-r ../src/requirements.txt (line 9)) (3.9.7)\n",
      "Requirement already satisfied: networkx>=2.5 in /home/adrien/Documents/pro/challenge_serving_api/venv/lib/python3.10/site-packages (from kedro-viz~=6.0->-r ../src/requirements.txt (line 9)) (3.1)\n",
      "Requirement already satisfied: fastapi<0.96.0,>=0.73.0 in /home/adrien/Documents/pro/challenge_serving_api/venv/lib/python3.10/site-packages (from kedro-viz~=6.0->-r ../src/requirements.txt (line 9)) (0.95.2)\n",
      "Requirement already satisfied: secure>=0.3.0 in /home/adrien/Documents/pro/challenge_serving_api/venv/lib/python3.10/site-packages (from kedro-viz~=6.0->-r ../src/requirements.txt (line 9)) (0.3.0)\n",
      "Requirement already satisfied: plotly>=4.0 in /home/adrien/Documents/pro/challenge_serving_api/venv/lib/python3.10/site-packages (from kedro-viz~=6.0->-r ../src/requirements.txt (line 9)) (5.17.0)\n",
      "Requirement already satisfied: watchgod~=0.8.2 in /home/adrien/Documents/pro/challenge_serving_api/venv/lib/python3.10/site-packages (from kedro-viz~=6.0->-r ../src/requirements.txt (line 9)) (0.8.2)\n",
      "Requirement already satisfied: aiofiles==22.1.0 in /home/adrien/Documents/pro/challenge_serving_api/venv/lib/python3.10/site-packages (from kedro-viz~=6.0->-r ../src/requirements.txt (line 9)) (22.1.0)\n",
      "Requirement already satisfied: lazy-loader in /home/adrien/Documents/pro/challenge_serving_api/venv/lib/python3.10/site-packages (from kedro-datasets[pandas.CSVDataSet]~=1.0->-r ../src/requirements.txt (line 10)) (0.3)\n",
      "Requirement already satisfied: nbformat in /home/adrien/Documents/pro/challenge_serving_api/venv/lib/python3.10/site-packages (from nbstripout~=0.4->-r ../src/requirements.txt (line 12)) (5.9.2)\n",
      "Requirement already satisfied: coverage[toml]>=5.2.1 in /home/adrien/Documents/pro/challenge_serving_api/venv/lib/python3.10/site-packages (from pytest-cov~=3.0->-r ../src/requirements.txt (line 13)) (7.3.2)\n",
      "Requirement already satisfied: exceptiongroup>=1.0.0rc8 in /home/adrien/Documents/pro/challenge_serving_api/venv/lib/python3.10/site-packages (from pytest~=7.2->-r ../src/requirements.txt (line 15)) (1.1.3)\n",
      "Requirement already satisfied: iniconfig in /home/adrien/Documents/pro/challenge_serving_api/venv/lib/python3.10/site-packages (from pytest~=7.2->-r ../src/requirements.txt (line 15)) (2.0.0)\n",
      "Requirement already satisfied: python-slugify>=4.0.0 in /home/adrien/Documents/pro/challenge_serving_api/venv/lib/python3.10/site-packages (from cookiecutter<3.0,>=2.1.1->kedro~=0.18.13->-r ../src/requirements.txt (line 8)) (8.0.1)\n",
      "Requirement already satisfied: binaryornot>=0.4.4 in /home/adrien/Documents/pro/challenge_serving_api/venv/lib/python3.10/site-packages (from cookiecutter<3.0,>=2.1.1->kedro~=0.18.13->-r ../src/requirements.txt (line 8)) (0.4.4)\n",
      "Requirement already satisfied: arrow in /home/adrien/Documents/pro/challenge_serving_api/venv/lib/python3.10/site-packages (from cookiecutter<3.0,>=2.1.1->kedro~=0.18.13->-r ../src/requirements.txt (line 8)) (1.3.0)\n"
     ]
    },
    {
     "name": "stdout",
     "output_type": "stream",
     "text": [
      "Requirement already satisfied: starlette<0.28.0,>=0.27.0 in /home/adrien/Documents/pro/challenge_serving_api/venv/lib/python3.10/site-packages (from fastapi<0.96.0,>=0.73.0->kedro-viz~=6.0->-r ../src/requirements.txt (line 9)) (0.27.0)\n",
      "Requirement already satisfied: pydantic!=1.7,!=1.7.1,!=1.7.2,!=1.7.3,!=1.8,!=1.8.1,<2.0.0,>=1.6.2 in /home/adrien/Documents/pro/challenge_serving_api/venv/lib/python3.10/site-packages (from fastapi<0.96.0,>=0.73.0->kedro-viz~=6.0->-r ../src/requirements.txt (line 9)) (1.10.13)\n",
      "Requirement already satisfied: gitdb<5,>=4.0.1 in /home/adrien/Documents/pro/challenge_serving_api/venv/lib/python3.10/site-packages (from gitpython~=3.0->kedro~=0.18.13->-r ../src/requirements.txt (line 8)) (4.0.10)\n",
      "Requirement already satisfied: zipp>=0.5 in /home/adrien/Documents/pro/challenge_serving_api/venv/lib/python3.10/site-packages (from importlib-metadata>=3.6->kedro~=0.18.13->-r ../src/requirements.txt (line 8)) (3.17.0)\n",
      "Requirement already satisfied: prometheus-client in /home/adrien/Documents/pro/challenge_serving_api/venv/lib/python3.10/site-packages (from jupyter-server<3,>=1.16.0->jupyterlab~=3.0->-r ../src/requirements.txt (line 7)) (0.17.1)\n",
      "Requirement already satisfied: Send2Trash in /home/adrien/Documents/pro/challenge_serving_api/venv/lib/python3.10/site-packages (from jupyter-server<3,>=1.16.0->jupyterlab~=3.0->-r ../src/requirements.txt (line 7)) (1.8.2)\n",
      "Requirement already satisfied: terminado>=0.8.3 in /home/adrien/Documents/pro/challenge_serving_api/venv/lib/python3.10/site-packages (from jupyter-server<3,>=1.16.0->jupyterlab~=3.0->-r ../src/requirements.txt (line 7)) (0.17.1)\n",
      "Requirement already satisfied: websocket-client in /home/adrien/Documents/pro/challenge_serving_api/venv/lib/python3.10/site-packages (from jupyter-server<3,>=1.16.0->jupyterlab~=3.0->-r ../src/requirements.txt (line 7)) (1.6.3)\n",
      "Requirement already satisfied: anyio<4,>=3.1.0 in /home/adrien/Documents/pro/challenge_serving_api/venv/lib/python3.10/site-packages (from jupyter-server<3,>=1.16.0->jupyterlab~=3.0->-r ../src/requirements.txt (line 7)) (3.7.1)\n",
      "Requirement already satisfied: argon2-cffi in /home/adrien/Documents/pro/challenge_serving_api/venv/lib/python3.10/site-packages (from jupyter-server<3,>=1.16.0->jupyterlab~=3.0->-r ../src/requirements.txt (line 7)) (23.1.0)\n",
      "Requirement already satisfied: json5 in /home/adrien/Documents/pro/challenge_serving_api/venv/lib/python3.10/site-packages (from jupyterlab-server~=2.10->jupyterlab~=3.0->-r ../src/requirements.txt (line 7)) (0.9.14)\n",
      "Requirement already satisfied: babel in /home/adrien/Documents/pro/challenge_serving_api/venv/lib/python3.10/site-packages (from jupyterlab-server~=2.10->jupyterlab~=3.0->-r ../src/requirements.txt (line 7)) (2.13.0)\n",
      "Requirement already satisfied: jsonschema>=3.0.1 in /home/adrien/Documents/pro/challenge_serving_api/venv/lib/python3.10/site-packages (from jupyterlab-server~=2.10->jupyterlab~=3.0->-r ../src/requirements.txt (line 7)) (4.19.1)\n",
      "Requirement already satisfied: jupyterlab-pygments in /home/adrien/Documents/pro/challenge_serving_api/venv/lib/python3.10/site-packages (from nbconvert->jupyter~=1.0->-r ../src/requirements.txt (line 6)) (0.2.2)\n",
      "Requirement already satisfied: bleach!=5.0.0 in /home/adrien/Documents/pro/challenge_serving_api/venv/lib/python3.10/site-packages (from nbconvert->jupyter~=1.0->-r ../src/requirements.txt (line 6)) (6.0.0)\n",
      "Requirement already satisfied: defusedxml in /home/adrien/Documents/pro/challenge_serving_api/venv/lib/python3.10/site-packages (from nbconvert->jupyter~=1.0->-r ../src/requirements.txt (line 6)) (0.7.1)\n",
      "Requirement already satisfied: mistune<4,>=2.0.3 in /home/adrien/Documents/pro/challenge_serving_api/venv/lib/python3.10/site-packages (from nbconvert->jupyter~=1.0->-r ../src/requirements.txt (line 6)) (3.0.2)\n",
      "Requirement already satisfied: nbclient>=0.5.0 in /home/adrien/Documents/pro/challenge_serving_api/venv/lib/python3.10/site-packages (from nbconvert->jupyter~=1.0->-r ../src/requirements.txt (line 6)) (0.8.0)\n",
      "Requirement already satisfied: pandocfilters>=1.4.1 in /home/adrien/Documents/pro/challenge_serving_api/venv/lib/python3.10/site-packages (from nbconvert->jupyter~=1.0->-r ../src/requirements.txt (line 6)) (1.5.0)\n",
      "Requirement already satisfied: tinycss2 in /home/adrien/Documents/pro/challenge_serving_api/venv/lib/python3.10/site-packages (from nbconvert->jupyter~=1.0->-r ../src/requirements.txt (line 6)) (1.2.1)\n",
      "Requirement already satisfied: beautifulsoup4 in /home/adrien/Documents/pro/challenge_serving_api/venv/lib/python3.10/site-packages (from nbconvert->jupyter~=1.0->-r ../src/requirements.txt (line 6)) (4.12.2)\n",
      "Requirement already satisfied: fastjsonschema in /home/adrien/Documents/pro/challenge_serving_api/venv/lib/python3.10/site-packages (from nbformat->nbstripout~=0.4->-r ../src/requirements.txt (line 12)) (2.18.1)\n",
      "Requirement already satisfied: ipython-genutils in /home/adrien/Documents/pro/challenge_serving_api/venv/lib/python3.10/site-packages (from notebook->jupyter~=1.0->-r ../src/requirements.txt (line 6)) (0.2.0)\n",
      "Requirement already satisfied: notebook-shim>=0.2.3 in /home/adrien/Documents/pro/challenge_serving_api/venv/lib/python3.10/site-packages (from nbclassic->jupyterlab~=3.0->-r ../src/requirements.txt (line 7)) (0.2.3)\n",
      "Requirement already satisfied: antlr4-python3-runtime==4.9.* in /home/adrien/Documents/pro/challenge_serving_api/venv/lib/python3.10/site-packages (from omegaconf~=2.3->kedro~=0.18.13->-r ../src/requirements.txt (line 8)) (4.9.3)\n",
      "Requirement already satisfied: pip>=22.2 in /home/adrien/Documents/pro/challenge_serving_api/venv/lib/python3.10/site-packages (from pip-tools<8,>=6.5->kedro~=0.18.13->-r ../src/requirements.txt (line 8)) (22.2)\n",
      "Requirement already satisfied: tenacity>=6.2.0 in /home/adrien/Documents/pro/challenge_serving_api/venv/lib/python3.10/site-packages (from plotly>=4.0->kedro-viz~=6.0->-r ../src/requirements.txt (line 9)) (8.2.3)\n",
      "Requirement already satisfied: markdown-it-py>=2.2.0 in /home/adrien/Documents/pro/challenge_serving_api/venv/lib/python3.10/site-packages (from rich<14.0,>=12.0->kedro~=0.18.13->-r ../src/requirements.txt (line 8)) (2.2.0)\n",
      "Requirement already satisfied: pytoolconfig[global]>=1.2.2 in /home/adrien/Documents/pro/challenge_serving_api/venv/lib/python3.10/site-packages (from rope<2.0,>=0.21->kedro~=0.18.13->-r ../src/requirements.txt (line 8)) (1.2.5)\n",
      "Requirement already satisfied: greenlet!=0.4.17 in /home/adrien/Documents/pro/challenge_serving_api/venv/lib/python3.10/site-packages (from sqlalchemy<3,>=1.4->kedro-viz~=6.0->-r ../src/requirements.txt (line 9)) (3.0.0)\n",
      "Requirement already satisfied: graphql-core<3.3.0,>=3.2.0 in /home/adrien/Documents/pro/challenge_serving_api/venv/lib/python3.10/site-packages (from strawberry-graphql<1.0,>=0.192.0->kedro-viz~=6.0->-r ../src/requirements.txt (line 9)) (3.2.3)\n",
      "Requirement already satisfied: h11>=0.8 in /home/adrien/Documents/pro/challenge_serving_api/venv/lib/python3.10/site-packages (from uvicorn[standard]~=0.22.0->kedro-viz~=6.0->-r ../src/requirements.txt (line 9)) (0.14.0)\n",
      "Requirement already satisfied: uvloop!=0.15.0,!=0.15.1,>=0.14.0 in /home/adrien/Documents/pro/challenge_serving_api/venv/lib/python3.10/site-packages (from uvicorn[standard]~=0.22.0->kedro-viz~=6.0->-r ../src/requirements.txt (line 9)) (0.17.0)\n",
      "Requirement already satisfied: python-dotenv>=0.13 in /home/adrien/Documents/pro/challenge_serving_api/venv/lib/python3.10/site-packages (from uvicorn[standard]~=0.22.0->kedro-viz~=6.0->-r ../src/requirements.txt (line 9)) (1.0.0)\n",
      "Requirement already satisfied: watchfiles>=0.13 in /home/adrien/Documents/pro/challenge_serving_api/venv/lib/python3.10/site-packages (from uvicorn[standard]~=0.22.0->kedro-viz~=6.0->-r ../src/requirements.txt (line 9)) (0.20.0)\n",
      "Requirement already satisfied: websockets>=10.4 in /home/adrien/Documents/pro/challenge_serving_api/venv/lib/python3.10/site-packages (from uvicorn[standard]~=0.22.0->kedro-viz~=6.0->-r ../src/requirements.txt (line 9)) (11.0.3)\n",
      "Requirement already satisfied: httptools>=0.5.0 in /home/adrien/Documents/pro/challenge_serving_api/venv/lib/python3.10/site-packages (from uvicorn[standard]~=0.22.0->kedro-viz~=6.0->-r ../src/requirements.txt (line 9)) (0.6.0)\n"
     ]
    },
    {
     "name": "stdout",
     "output_type": "stream",
     "text": [
      "Requirement already satisfied: pyproject_hooks in /home/adrien/Documents/pro/challenge_serving_api/venv/lib/python3.10/site-packages (from build->kedro~=0.18.13->-r ../src/requirements.txt (line 8)) (1.0.0)\n",
      "Requirement already satisfied: widgetsnbextension~=4.0.9 in /home/adrien/Documents/pro/challenge_serving_api/venv/lib/python3.10/site-packages (from ipywidgets->jupyter~=1.0->-r ../src/requirements.txt (line 6)) (4.0.9)\n",
      "Requirement already satisfied: jupyterlab-widgets~=3.0.9 in /home/adrien/Documents/pro/challenge_serving_api/venv/lib/python3.10/site-packages (from ipywidgets->jupyter~=1.0->-r ../src/requirements.txt (line 6)) (3.0.9)\n",
      "Requirement already satisfied: qtpy>=2.4.0 in /home/adrien/Documents/pro/challenge_serving_api/venv/lib/python3.10/site-packages (from qtconsole->jupyter~=1.0->-r ../src/requirements.txt (line 6)) (2.4.0)\n",
      "Requirement already satisfied: sniffio>=1.1 in /home/adrien/Documents/pro/challenge_serving_api/venv/lib/python3.10/site-packages (from anyio<4,>=3.1.0->jupyter-server<3,>=1.16.0->jupyterlab~=3.0->-r ../src/requirements.txt (line 7)) (1.3.0)\n",
      "Requirement already satisfied: chardet>=3.0.2 in /home/adrien/Documents/pro/challenge_serving_api/venv/lib/python3.10/site-packages (from binaryornot>=0.4.4->cookiecutter<3.0,>=2.1.1->kedro~=0.18.13->-r ../src/requirements.txt (line 8)) (5.2.0)\n",
      "Requirement already satisfied: webencodings in /home/adrien/Documents/pro/challenge_serving_api/venv/lib/python3.10/site-packages (from bleach!=5.0.0->nbconvert->jupyter~=1.0->-r ../src/requirements.txt (line 6)) (0.5.1)\n",
      "Requirement already satisfied: smmap<6,>=3.0.1 in /home/adrien/Documents/pro/challenge_serving_api/venv/lib/python3.10/site-packages (from gitdb<5,>=4.0.1->gitpython~=3.0->kedro~=0.18.13->-r ../src/requirements.txt (line 8)) (5.0.1)\n",
      "Requirement already satisfied: jsonschema-specifications>=2023.03.6 in /home/adrien/Documents/pro/challenge_serving_api/venv/lib/python3.10/site-packages (from jsonschema>=3.0.1->jupyterlab-server~=2.10->jupyterlab~=3.0->-r ../src/requirements.txt (line 7)) (2023.7.1)\n",
      "Requirement already satisfied: rpds-py>=0.7.1 in /home/adrien/Documents/pro/challenge_serving_api/venv/lib/python3.10/site-packages (from jsonschema>=3.0.1->jupyterlab-server~=2.10->jupyterlab~=3.0->-r ../src/requirements.txt (line 7)) (0.10.3)\n",
      "Requirement already satisfied: referencing>=0.28.4 in /home/adrien/Documents/pro/challenge_serving_api/venv/lib/python3.10/site-packages (from jsonschema>=3.0.1->jupyterlab-server~=2.10->jupyterlab~=3.0->-r ../src/requirements.txt (line 7)) (0.30.2)\n",
      "Requirement already satisfied: mdurl~=0.1 in /home/adrien/Documents/pro/challenge_serving_api/venv/lib/python3.10/site-packages (from markdown-it-py>=2.2.0->rich<14.0,>=12.0->kedro~=0.18.13->-r ../src/requirements.txt (line 8)) (0.1.2)\n",
      "Requirement already satisfied: text-unidecode>=1.3 in /home/adrien/Documents/pro/challenge_serving_api/venv/lib/python3.10/site-packages (from python-slugify>=4.0.0->cookiecutter<3.0,>=2.1.1->kedro~=0.18.13->-r ../src/requirements.txt (line 8)) (1.3)\n",
      "Requirement already satisfied: argon2-cffi-bindings in /home/adrien/Documents/pro/challenge_serving_api/venv/lib/python3.10/site-packages (from argon2-cffi->jupyter-server<3,>=1.16.0->jupyterlab~=3.0->-r ../src/requirements.txt (line 7)) (21.2.0)\n",
      "Requirement already satisfied: types-python-dateutil>=2.8.10 in /home/adrien/Documents/pro/challenge_serving_api/venv/lib/python3.10/site-packages (from arrow->cookiecutter<3.0,>=2.1.1->kedro~=0.18.13->-r ../src/requirements.txt (line 8)) (2.8.19.14)\n",
      "Requirement already satisfied: soupsieve>1.2 in /home/adrien/Documents/pro/challenge_serving_api/venv/lib/python3.10/site-packages (from beautifulsoup4->nbconvert->jupyter~=1.0->-r ../src/requirements.txt (line 6)) (2.5)\n",
      "Requirement already satisfied: cffi>=1.0.1 in /home/adrien/Documents/pro/challenge_serving_api/venv/lib/python3.10/site-packages (from argon2-cffi-bindings->argon2-cffi->jupyter-server<3,>=1.16.0->jupyterlab~=3.0->-r ../src/requirements.txt (line 7)) (1.16.0)\n",
      "Requirement already satisfied: pycparser in /home/adrien/Documents/pro/challenge_serving_api/venv/lib/python3.10/site-packages (from cffi>=1.0.1->argon2-cffi-bindings->argon2-cffi->jupyter-server<3,>=1.16.0->jupyterlab~=3.0->-r ../src/requirements.txt (line 7)) (2.21)\n",
      "Note: you may need to restart the kernel to use updated packages.\n"
     ]
    }
   ],
   "source": [
    "%pip install -r ../src/requirements.txt"
   ]
  },
  {
   "cell_type": "code",
   "execution_count": 2,
   "metadata": {},
   "outputs": [],
   "source": [
    "# Data processing\n",
    "import pandas as pd\n",
    "import numpy as np"
   ]
  },
  {
   "cell_type": "code",
   "execution_count": 3,
   "metadata": {},
   "outputs": [
    {
     "name": "stderr",
     "output_type": "stream",
     "text": [
      "2023-10-03 18:20:36.926816: I tensorflow/core/util/port.cc:110] oneDNN custom operations are on. You may see slightly different numerical results due to floating-point round-off errors from different computation orders. To turn them off, set the environment variable `TF_ENABLE_ONEDNN_OPTS=0`.\n",
      "2023-10-03 18:20:36.952656: I tensorflow/tsl/cuda/cudart_stub.cc:28] Could not find cuda drivers on your machine, GPU will not be used.\n",
      "2023-10-03 18:20:37.245962: I tensorflow/tsl/cuda/cudart_stub.cc:28] Could not find cuda drivers on your machine, GPU will not be used.\n",
      "2023-10-03 18:20:37.249036: I tensorflow/core/platform/cpu_feature_guard.cc:182] This TensorFlow binary is optimized to use available CPU instructions in performance-critical operations.\n",
      "To enable the following instructions: AVX2 AVX_VNNI FMA, in other operations, rebuild TensorFlow with the appropriate compiler flags.\n",
      "2023-10-03 18:20:38.620997: W tensorflow/compiler/tf2tensorrt/utils/py_utils.cc:38] TF-TRT Warning: Could not find TensorRT\n"
     ]
    }
   ],
   "source": [
    "from sklearn.model_selection import train_test_split\n",
    "import tensorflow as tf\n",
    "from tensorflow.keras.optimizers import Adam\n",
    "from transformers import AutoTokenizer, TFAutoModelForSequenceClassification\n",
    "from sklearn.metrics import accuracy_score"
   ]
  },
  {
   "cell_type": "code",
   "execution_count": 4,
   "metadata": {},
   "outputs": [
    {
     "name": "stdout",
     "output_type": "stream",
     "text": [
      "                                              review  label\n",
      "0  So there is no way for me to plug it in here i...      0\n",
      "1                        Good case, Excellent value.      1\n",
      "2                             Great for the jawbone.      1\n",
      "3  Tied to charger for conversations lasting more...      0\n",
      "4                                  The mic is great.      1\n",
      "<class 'pandas.core.frame.DataFrame'>\n",
      "RangeIndex: 1000 entries, 0 to 999\n",
      "Data columns (total 2 columns):\n",
      " #   Column  Non-Null Count  Dtype \n",
      "---  ------  --------------  ----- \n",
      " 0   review  1000 non-null   object\n",
      " 1   label   1000 non-null   int64 \n",
      "dtypes: int64(1), object(1)\n",
      "memory usage: 15.8+ KB\n",
      "None\n"
     ]
    }
   ],
   "source": [
    "dataset_amazon = pd.read_csv('../data/01_raw/amazon_cells_labelled.txt', sep='\\t', names=['review', 'label'])\n",
    "print(dataset_amazon.head())\n",
    "print(dataset_amazon.info())"
   ]
  },
  {
   "cell_type": "markdown",
   "metadata": {},
   "source": [
    "## Phase d'entraînement\n",
    "L'objectif ici est de charger un modèle pré-entrainé et son tokenizer et de sur-entrainé ce dernier avec le dataset contenu dans `data/amazon_cells_labelled.txt`. "
   ]
  },
  {
   "cell_type": "markdown",
   "metadata": {},
   "source": [
    "Train Test split"
   ]
  },
  {
   "cell_type": "code",
   "execution_count": 5,
   "metadata": {},
   "outputs": [
    {
     "name": "stdout",
     "output_type": "stream",
     "text": [
      "Train: 750\n",
      "Test: 250\n"
     ]
    }
   ],
   "source": [
    "X_train, X_test, y_train, y_test = train_test_split(dataset_amazon['review'],\n",
    "                                                    dataset_amazon['label'],\n",
    "                                                    test_size = 0.25, \n",
    "                                                    random_state = 42)\n",
    "\n",
    "print(f'Train: {len(X_train)}')\n",
    "print(f'Test: {len(X_test)}')"
   ]
  },
  {
   "cell_type": "markdown",
   "metadata": {},
   "source": [
    "Load and use a Bert Tokenizer to pre-process the dataset"
   ]
  },
  {
   "cell_type": "code",
   "execution_count": 6,
   "metadata": {},
   "outputs": [],
   "source": [
    "tokenizer = AutoTokenizer.from_pretrained(\"bert-base-cased\")\n",
    "preprocessed_train = tokenizer(X_train.to_list(), return_tensors=\"np\", padding=True)\n",
    "preprocessed_test = tokenizer(X_test.to_list(), return_tensors=\"np\", padding=True)\n",
    "\n",
    "# Create label list\n",
    "labels_train = np.array(y_train)  \n",
    "labels_test = np.array(y_test)"
   ]
  },
  {
   "cell_type": "markdown",
   "metadata": {},
   "source": [
    "Load a pre-trained model and compile it "
   ]
  },
  {
   "cell_type": "code",
   "execution_count": 7,
   "metadata": {},
   "outputs": [
    {
     "name": "stderr",
     "output_type": "stream",
     "text": [
      "2023-10-03 18:20:46.115492: I tensorflow/compiler/xla/stream_executor/cuda/cuda_gpu_executor.cc:996] successful NUMA node read from SysFS had negative value (-1), but there must be at least one NUMA node, so returning NUMA node zero. See more at https://github.com/torvalds/linux/blob/v6.0/Documentation/ABI/testing/sysfs-bus-pci#L344-L355\n",
      "2023-10-03 18:20:46.118149: W tensorflow/core/common_runtime/gpu/gpu_device.cc:1956] Cannot dlopen some GPU libraries. Please make sure the missing libraries mentioned above are installed properly if you would like to use GPU. Follow the guide at https://www.tensorflow.org/install/gpu for how to download and setup the required libraries for your platform.\n",
      "Skipping registering GPU devices...\n",
      "All model checkpoint layers were used when initializing TFBertForSequenceClassification.\n",
      "\n",
      "Some layers of TFBertForSequenceClassification were not initialized from the model checkpoint at bert-base-cased and are newly initialized: ['classifier']\n",
      "You should probably TRAIN this model on a down-stream task to be able to use it for predictions and inference.\n"
     ]
    }
   ],
   "source": [
    "# Load pre-trained model\n",
    "model = TFAutoModelForSequenceClassification.from_pretrained(\"bert-base-cased\", num_labels=2)\n",
    "loss_function = tf.keras.losses.SparseCategoricalCrossentropy(from_logits=True)\n",
    "model.compile(optimizer=Adam(5e-6), loss=loss_function, metrics=['accuracy'])"
   ]
  },
  {
   "cell_type": "markdown",
   "metadata": {},
   "source": [
    "Train the model on the new dataset"
   ]
  },
  {
   "cell_type": "code",
   "execution_count": 8,
   "metadata": {},
   "outputs": [
    {
     "name": "stdout",
     "output_type": "stream",
     "text": [
      "188/188 [==============================] - 348s 2s/step - loss: 0.5926 - accuracy: 0.7107 - val_loss: 0.3357 - val_accuracy: 0.9120\n"
     ]
    },
    {
     "data": {
      "text/plain": [
       "<keras.callbacks.History at 0x7fd271debc10>"
      ]
     },
     "execution_count": 8,
     "metadata": {},
     "output_type": "execute_result"
    }
   ],
   "source": [
    "# Fit the model\n",
    "model.fit(dict(preprocessed_train), \n",
    "          labels_train, \n",
    "          validation_data=(dict(preprocessed_test), labels_test),\n",
    "          batch_size=4, \n",
    "          epochs=1)"
   ]
  },
  {
   "cell_type": "code",
   "execution_count": 9,
   "metadata": {},
   "outputs": [
    {
     "name": "stdout",
     "output_type": "stream",
     "text": [
      "/home/adrien/Documents/pro/challenge_serving_api/kedro-pipeline\n"
     ]
    },
    {
     "data": {
      "text/plain": [
       "'/home/adrien/Documents/pro/challenge_serving_api/kedro-pipeline'"
      ]
     },
     "execution_count": 9,
     "metadata": {},
     "output_type": "execute_result"
    }
   ],
   "source": [
    "%pwd\n",
    "%cd ..\n",
    "%pwd"
   ]
  },
  {
   "cell_type": "code",
   "execution_count": 10,
   "metadata": {},
   "outputs": [
    {
     "data": {
      "text/plain": [
       "'/home/adrien/Documents/pro/challenge_serving_api/kedro-pipeline'"
      ]
     },
     "execution_count": 10,
     "metadata": {},
     "output_type": "execute_result"
    }
   ],
   "source": [
    "%pwd"
   ]
  },
  {
   "cell_type": "code",
   "execution_count": 23,
   "metadata": {},
   "outputs": [
    {
     "name": "stdout",
     "output_type": "stream",
     "text": [
      "<bound method Mapping.values of ConfigLoader(conf_source=conf/, env=None, config_patterns={'catalog': ['catalog*', 'catalog*/**', '**/catalog*'], 'parameters': ['parameters*', 'parameters*/**', '**/parameters*'], 'credentials': ['credentials*', 'credentials*/**', '**/credentials*'], 'logging': ['logging*', 'logging*/**', '**/logging*']})>\n",
      "data/06_models/bert_trained_model\n"
     ]
    },
    {
     "name": "stderr",
     "output_type": "stream",
     "text": [
      "Some layers from the model checkpoint at data/06_models/bert_trained_model were not used when initializing TFBertForSequenceClassification: ['dropout_37']\n",
      "- This IS expected if you are initializing TFBertForSequenceClassification from the checkpoint of a model trained on another task or with another architecture (e.g. initializing a BertForSequenceClassification model from a BertForPreTraining model).\n",
      "- This IS NOT expected if you are initializing TFBertForSequenceClassification from the checkpoint of a model that you expect to be exactly identical (initializing a BertForSequenceClassification model from a BertForSequenceClassification model).\n",
      "All the layers of TFBertForSequenceClassification were initialized from the model checkpoint at data/06_models/bert_trained_model.\n",
      "If your task is similar to the task the model of the checkpoint was trained on, you can already use TFBertForSequenceClassification for predictions without further training.\n"
     ]
    }
   ],
   "source": [
    "from kedro.config import ConfigLoader\n",
    "from kedro.io import DataCatalog\n",
    "\n",
    "# Charger la configuration du catalogue\n",
    "config_loader = ConfigLoader(\"conf/\")\n",
    "print(config_loader.values)\n",
    "catalog_config = config_loader.get(\"catalog*\")\n",
    "\n",
    "# Créer un catalogue avec la configuration chargée\n",
    "catalog = DataCatalog.from_config(catalog_config)\n",
    "\n",
    "#Save\n",
    "catalog.save(\"bert_model\", model)\n",
    "# Charger l'artefact\n",
    "artifact = catalog.load(\"bert_model\")\n",
    "#data = artifact.load()"
   ]
  },
  {
   "cell_type": "code",
   "execution_count": null,
   "metadata": {},
   "outputs": [],
   "source": []
  },
  {
   "cell_type": "code",
   "execution_count": 12,
   "metadata": {},
   "outputs": [],
   "source": [
    "model.save_pretrained(\"/home/adrien/Documents/pro/challenge_serving_api/kedro-pipeline/data/06_models/\")"
   ]
  },
  {
   "cell_type": "code",
   "execution_count": 13,
   "metadata": {},
   "outputs": [
    {
     "name": "stderr",
     "output_type": "stream",
     "text": [
      "Some layers from the model checkpoint at /home/adrien/Documents/pro/challenge_serving_api/kedro-pipeline/data/06_models/ were not used when initializing TFBertForSequenceClassification: ['dropout_37']\n",
      "- This IS expected if you are initializing TFBertForSequenceClassification from the checkpoint of a model trained on another task or with another architecture (e.g. initializing a BertForSequenceClassification model from a BertForPreTraining model).\n",
      "- This IS NOT expected if you are initializing TFBertForSequenceClassification from the checkpoint of a model that you expect to be exactly identical (initializing a BertForSequenceClassification model from a BertForSequenceClassification model).\n",
      "All the layers of TFBertForSequenceClassification were initialized from the model checkpoint at /home/adrien/Documents/pro/challenge_serving_api/kedro-pipeline/data/06_models/.\n",
      "If your task is similar to the task the model of the checkpoint was trained on, you can already use TFBertForSequenceClassification for predictions without further training.\n"
     ]
    }
   ],
   "source": [
    "test = TFAutoModelForSequenceClassification.from_pretrained(\"/home/adrien/Documents/pro/challenge_serving_api/kedro-pipeline/data/06_models/\")"
   ]
  },
  {
   "cell_type": "code",
   "execution_count": 14,
   "metadata": {},
   "outputs": [
    {
     "data": {
      "text/plain": [
       "<transformers.models.bert.modeling_tf_bert.TFBertForSequenceClassification at 0x7fd16422aa10>"
      ]
     },
     "execution_count": 14,
     "metadata": {},
     "output_type": "execute_result"
    }
   ],
   "source": [
    "test"
   ]
  },
  {
   "cell_type": "markdown",
   "metadata": {},
   "source": [
    "Evaluate the model performances"
   ]
  },
  {
   "cell_type": "code",
   "execution_count": 21,
   "metadata": {},
   "outputs": [
    {
     "name": "stdout",
     "output_type": "stream",
     "text": [
      "8/8 [==============================] - 12s 1s/step\n"
     ]
    },
    {
     "data": {
      "text/plain": [
       "0.912"
      ]
     },
     "execution_count": 21,
     "metadata": {},
     "output_type": "execute_result"
    }
   ],
   "source": [
    "test_predictions = model.predict(dict(preprocessed_test))['logits']\n",
    "test_probabilities = tf.nn.softmax(test_predictions)\n",
    "test_predictions_class = np.argmax(test_probabilities, axis=1)\n",
    "accuracy_score(test_predictions_class, y_test)"
   ]
  },
  {
   "cell_type": "code",
   "execution_count": 22,
   "metadata": {},
   "outputs": [
    {
     "name": "stdout",
     "output_type": "stream",
     "text": [
      "8/8 [==============================] - 11s 1s/step\n"
     ]
    },
    {
     "data": {
      "text/plain": [
       "0.912"
      ]
     },
     "execution_count": 22,
     "metadata": {},
     "output_type": "execute_result"
    }
   ],
   "source": [
    "test_predictions = artifact.predict(dict(preprocessed_test))['logits']\n",
    "test_probabilities = tf.nn.softmax(test_predictions)\n",
    "test_predictions_class = np.argmax(test_probabilities, axis=1)\n",
    "accuracy_score(test_predictions_class, y_test)"
   ]
  },
  {
   "cell_type": "markdown",
   "metadata": {},
   "source": [
    "Save the tokenizer and the trained model to local folder"
   ]
  },
  {
   "cell_type": "code",
   "execution_count": 12,
   "metadata": {},
   "outputs": [],
   "source": [
    "tokenizer.save_pretrained('out/')\n",
    "model.save_pretrained('out/')"
   ]
  }
 ],
 "metadata": {
  "kernelspec": {
   "display_name": "Python 3 (ipykernel)",
   "language": "python",
   "name": "python3"
  },
  "language_info": {
   "codemirror_mode": {
    "name": "ipython",
    "version": 3
   },
   "file_extension": ".py",
   "mimetype": "text/x-python",
   "name": "python",
   "nbconvert_exporter": "python",
   "pygments_lexer": "ipython3",
   "version": "3.10.7"
  }
 },
 "nbformat": 4,
 "nbformat_minor": 2
}
